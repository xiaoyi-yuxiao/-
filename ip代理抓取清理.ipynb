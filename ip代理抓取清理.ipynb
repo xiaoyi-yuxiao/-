{
  "nbformat": 4,
  "nbformat_minor": 0,
  "metadata": {
    "colab": {
      "name": "ip代理抓取清理.ipynb",
      "provenance": [],
      "collapsed_sections": [],
      "authorship_tag": "ABX9TyNCrXqLx+LFkjXcs39kXd/U",
      "include_colab_link": true
    },
    "kernelspec": {
      "name": "python3",
      "display_name": "Python 3"
    }
  },
  "cells": [
    {
      "cell_type": "markdown",
      "metadata": {
        "id": "view-in-github",
        "colab_type": "text"
      },
      "source": [
        "<a href=\"https://colab.research.google.com/github/xiaoyi-yuxiao/IP-ScrappingClean/blob/master/ip%E4%BB%A3%E7%90%86%E6%8A%93%E5%8F%96%E6%B8%85%E7%90%86.ipynb\" target=\"_parent\"><img src=\"https://colab.research.google.com/assets/colab-badge.svg\" alt=\"Open In Colab\"/></a>"
      ]
    },
    {
      "cell_type": "code",
      "metadata": {
        "id": "yzON-cOPIFBy",
        "colab_type": "code",
        "colab": {}
      },
      "source": [
        "import requests\n",
        "from bs4 import BeautifulSoup as bs\n",
        "import time \n",
        "import numpy as np\n",
        "import pandas as pd\n",
        "from google.colab import files\n",
        "import datetime\n",
        "import json\n",
        "import random"
      ],
      "execution_count": null,
      "outputs": []
    },
    {
      "cell_type": "code",
      "metadata": {
        "id": "Pz9pX1WFIgN5",
        "colab_type": "code",
        "colab": {}
      },
      "source": [
        "\"\"\"html 用来连接网站以及返回html\"\"\"\n",
        "class ConnectHtml:\n",
        "\n",
        "  def __init__(self,url):\n",
        "\n",
        "    self.url = url\n",
        "    self.html = self.connect()\n",
        "\n",
        "  def connect(self):\n",
        "\n",
        "    kv = {'user-agent':\n",
        "          'Mozilla/5.0 (Macintosh; Intel Mac OS X 10_15_5) AppleWebKit/537.36 (KHTML, like Gecko) Chrome/83.0.4103.116 Safari/537.36'}\n",
        "\n",
        "    try:\n",
        "      response = requests.get(self.url, timeout = 10, headers = kv)\n",
        "      response.raise_for_status()\n",
        "      response.encoding = response.apparent_encoding\n",
        "    except Exception as e:\n",
        "      print(f\"Exception occur: {e}\")\n",
        "    else:\n",
        "      return response.text\n",
        "\n",
        "  def parser(self):\n",
        "\n",
        "    soup = bs(self.html,'html.parser')\n",
        "    return soup"
      ],
      "execution_count": null,
      "outputs": []
    },
    {
      "cell_type": "code",
      "metadata": {
        "id": "UUSExexvK7M-",
        "colab_type": "code",
        "colab": {}
      },
      "source": [
        "class IpGetter:\n",
        "\n",
        "  def __init__(self):\n",
        "    self.url = 'https://www.kuaidaili.com/free/inha/'\n",
        "    self.check_url = 'https://www.ip.cn/'\n",
        "    self.ip_list = []\n",
        "\n",
        "  def get_available_ip(self, ip_address, ip_port):\n",
        "    \"\"\"检测IP地址是否可用\"\"\"\n",
        "    header = {'User-Agent': 'Mozilla/5.0 (Windows NT 10.0; Win64; x64) AppleWebKit/537.36 (KHTML, like Gecko) Chrome/70.0.3538.77 Safari/537.36'}\n",
        "    ip_url_next = '://' + ip_address + ':' + ip_port\n",
        "    proxies = {'http': 'http' + ip_url_next}\n",
        "    try:\n",
        "      r = requests.get(self.check_url, headers=header, proxies=proxies, timeout=3)\n",
        "      html = r.text\n",
        "    except:\n",
        "      print('fail-%s' % ip_address)\n",
        "    else:\n",
        "      print('success-%s' % ip_address)\n",
        "      soup = bs(html, 'lxml')\n",
        "      div = soup.find(class_='well')\n",
        "      if div:\n",
        "          print(div.text)\n",
        "      ip_info = [ip_address,ip_port]\n",
        "      self.ip_list.append(ip_info)\n",
        "\n",
        "  def scrapping(self):\n",
        "\n",
        "    for i in range(1,2):\n",
        "      newurl = self.url+f'{str(i)}/'\n",
        "      myconnect = ConnectHtml(newurl)\n",
        "      soup = myconnect.parser()\n",
        "\n",
        "      tbody = soup.find('tbody')\n",
        "      for tr in tbody('tr'):\n",
        "        tds = tr.find_all('td')\n",
        "        self.get_available_ip(tds[0].string,tds[1].string)\n",
        "      \n",
        "      print(f'Scrapping for {str(i)}th page')\n",
        "      t = np.random.randint(3,8)\n",
        "      time.sleep(t)\n",
        "    \n"
      ],
      "execution_count": null,
      "outputs": []
    },
    {
      "cell_type": "code",
      "metadata": {
        "id": "5d3xhBs8NE0V",
        "colab_type": "code",
        "colab": {
          "base_uri": "https://localhost:8080/",
          "height": 538
        },
        "outputId": "ea9de013-ac29-4c5b-a5c7-c54abd9d6633"
      },
      "source": [
        "test_getter = IpGetter()\n",
        "test_getter.scrapping()"
      ],
      "execution_count": null,
      "outputs": [
        {
          "output_type": "stream",
          "text": [
            "success-163.204.245.172\n",
            "您现在的 IP：35.237.66.235所在地理位置：美国 GoogleGeoIP: Virginia, United States\n",
            "success-125.108.93.141\n",
            "您现在的 IP：35.237.66.235所在地理位置：美国 GoogleGeoIP: Virginia, United States\n",
            "success-113.121.67.66\n",
            "您现在的 IP：35.237.66.235所在地理位置：美国 GoogleGeoIP: Virginia, United States\n",
            "success-113.195.235.159\n",
            "您现在的 IP：35.237.66.235所在地理位置：美国 GoogleGeoIP: Virginia, United States\n",
            "success-114.239.172.17\n",
            "您现在的 IP：35.237.66.235所在地理位置：美国 GoogleGeoIP: Virginia, United States\n",
            "success-118.113.247.182\n",
            "您现在的 IP：35.237.66.235所在地理位置：美国 GoogleGeoIP: Virginia, United States\n",
            "success-113.195.235.101\n",
            "您现在的 IP：35.237.66.235所在地理位置：美国 GoogleGeoIP: Virginia, United States\n",
            "success-47.94.89.87\n",
            "您现在的 IP：35.237.66.235所在地理位置：美国 GoogleGeoIP: Virginia, United States\n",
            "success-183.166.111.95\n",
            "您现在的 IP：35.237.66.235所在地理位置：美国 GoogleGeoIP: Virginia, United States\n",
            "success-175.42.158.68\n",
            "您现在的 IP：35.237.66.235所在地理位置：美国 GoogleGeoIP: Virginia, United States\n",
            "success-124.200.36.118\n",
            "您现在的 IP：35.237.66.235所在地理位置：美国 GoogleGeoIP: Virginia, United States\n",
            "success-113.194.29.233\n",
            "您现在的 IP：35.237.66.235所在地理位置：美国 GoogleGeoIP: Virginia, United States\n",
            "success-112.111.77.67\n",
            "您现在的 IP：35.237.66.235所在地理位置：美国 GoogleGeoIP: Virginia, United States\n",
            "success-115.218.0.53\n",
            "您现在的 IP：35.237.66.235所在地理位置：美国 GoogleGeoIP: Virginia, United States\n",
            "success-113.195.17.248\n",
            "您现在的 IP：35.237.66.235所在地理位置：美国 GoogleGeoIP: Virginia, United States\n",
            "Scrapping for 1th page\n"
          ],
          "name": "stdout"
        }
      ]
    },
    {
      "cell_type": "code",
      "metadata": {
        "id": "Q5_aYWcsYt9g",
        "colab_type": "code",
        "colab": {}
      },
      "source": [
        "my_IP = test_getter.ip_list"
      ],
      "execution_count": null,
      "outputs": []
    },
    {
      "cell_type": "code",
      "metadata": {
        "id": "wF8JvIZ3IEA4",
        "colab_type": "code",
        "colab": {}
      },
      "source": [
        "frame_data = pd.DataFrame(my_IP)"
      ],
      "execution_count": null,
      "outputs": []
    },
    {
      "cell_type": "code",
      "metadata": {
        "id": "LT-DB3wrIj-Y",
        "colab_type": "code",
        "colab": {}
      },
      "source": [
        "frame_data.to_csv('Ip_address.csv')"
      ],
      "execution_count": null,
      "outputs": []
    },
    {
      "cell_type": "code",
      "metadata": {
        "id": "66R9T-G2Y0M9",
        "colab_type": "code",
        "colab": {}
      },
      "source": [
        "files.download('Ip_address.csv')"
      ],
      "execution_count": null,
      "outputs": []
    },
    {
      "cell_type": "code",
      "metadata": {
        "id": "YZ4n2RokZeqx",
        "colab_type": "code",
        "colab": {}
      },
      "source": [
        "ip_random = -1\n",
        "\n",
        "def get_html(url):\n",
        "    header = {\n",
        "        'User-Agent': 'Mozilla/5.0 (Macintosh; Intel Mac OS X 10_14_0) AppleWebKit/537.36 (KHTML, like Gecko) Chrome/70.0.3538.102 Safari/537.36'\n",
        "    }\n",
        "    global ip_random\n",
        "    ip_rand, proxies = get_proxie(ip_random)\n",
        "    print(proxies)\n",
        "    try:\n",
        "        request = requests.get(url=url, headers=header, proxies=proxies, timeout=3)\n",
        "    except:\n",
        "        request_status = 500\n",
        "    else:\n",
        "        request_status = request.status_code\n",
        "    print(request_status)\n",
        "    while request_status != 200:\n",
        "        ip_random = -1\n",
        "        ip_rand, proxies = get_proxie(ip_random)\n",
        "        print(proxies)\n",
        "        try:\n",
        "            request = requests.get(url=url, headers=header, proxies=proxies, timeout=3)\n",
        "        except:\n",
        "            request_status = 500\n",
        "        else:\n",
        "            request_status = request.status_code\n",
        "        print(request_status)\n",
        "    ip_random = ip_rand\n",
        "    request.encoding = 'gbk'\n",
        "    html = request.content\n",
        "    print(html)\n",
        "    return html\n",
        "\n",
        "def get_proxie(random_number):\n",
        "    with open('Ip_address.csv', 'r') as file:\n",
        "        ip_list = json.load(file)\n",
        "        if random_number == -1:\n",
        "            random_number = random.randint(0, len(ip_list) - 1)\n",
        "        ip_info = ip_list[random_number]\n",
        "        ip_url_next = '://' + ip_info['address'] + ':' + ip_info['port']\n",
        "        proxies = {'http': 'http' + ip_url_next, 'https': 'https' + ip_url_next}\n",
        "        return random_number, proxies\n"
      ],
      "execution_count": null,
      "outputs": []
    },
    {
      "cell_type": "code",
      "metadata": {
        "id": "DQUjjSFUVrS9",
        "colab_type": "code",
        "colab": {}
      },
      "source": [
        "#示例\n",
        "ip_url_next = '://' + '124.200.36.118' + ':' + '40188'\n",
        "proxies = {'http': 'http' + ip_url_next}\n",
        "url = 'https://www.ssense.com/en-us/men'\n",
        "headers = {\n",
        "'Accept': '*/*',\n",
        "'Accept-Encoding': 'gzip, deflate, br',\n",
        "'Accept-Language': 'en-US,en;q=0.9',\n",
        "'Connection': 'keep-alive',\n",
        "'Host' : 'bam.nr-data.net',\n",
        "'Cookie': 'JSESSIONID=6d416ef337bd8764',\n",
        "'Referer': 'https://www.ssense.com/en-us/men',\n",
        "'User-agent': 'Mozilla/5.0 (Macintosh; Intel Mac OS X 10_15_5) AppleWebKit/537.36 (KHTML, like Gecko) Chrome/83.0.4103.116 Safari/537.36'\n",
        "}\n",
        "try:\n",
        "    request = requests.get(url=url, headers=header, proxies=proxies, timeout=3)\n",
        "except:\n",
        "    request_status = 500\n",
        "else:\n",
        "    request_status = request.status_code\n",
        "print(request_status)"
      ],
      "execution_count": null,
      "outputs": []
    }
  ]
}